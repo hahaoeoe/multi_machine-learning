{
 "cells": [
  {
   "cell_type": "code",
   "execution_count": null,
   "metadata": {},
   "outputs": [],
   "source": [
    "pip install flickrapi"
   ]
  },
  {
   "cell_type": "code",
   "execution_count": null,
   "metadata": {},
   "outputs": [],
   "source": [
    "from flickrapi import FlickrAPI"
   ]
  },
  {
   "cell_type": "code",
   "execution_count": null,
   "metadata": {},
   "outputs": [],
   "source": [
    "key = 'b88ca2b24d6576e7f599262d39ee7369'\n",
    "secret = 'b59f9d28f3c5543d'"
   ]
  },
  {
   "cell_type": "code",
   "execution_count": null,
   "metadata": {},
   "outputs": [],
   "source": [
    "flickr = FlickrAPI(key, secret, format='parsed-json')"
   ]
  },
  {
   "cell_type": "code",
   "execution_count": null,
   "metadata": {},
   "outputs": [],
   "source": [
    "extras='url_o'"
   ]
  },
  {
   "cell_type": "code",
   "execution_count": null,
   "metadata": {},
   "outputs": [],
   "source": [
    "bbox_string = str(6.6272658) + ',' + str(35.2889616) + ',' + str(18.7844746) +  ',' + str(47.0921462)"
   ]
  },
  {
   "cell_type": "code",
   "execution_count": null,
   "metadata": {},
   "outputs": [],
   "source": [
    "italy = flickr.photos.search(bbox=bbox_string, per_pages=50, extras=extras)"
   ]
  },
  {
   "cell_type": "code",
   "execution_count": null,
   "metadata": {},
   "outputs": [],
   "source": [
    "photos = italy['photos']['photo']"
   ]
  },
  {
   "cell_type": "code",
   "execution_count": null,
   "metadata": {},
   "outputs": [],
   "source": [
    "photos[0]['id']"
   ]
  },
  {
   "cell_type": "code",
   "execution_count": null,
   "metadata": {},
   "outputs": [],
   "source": [
    "photos[1]['id']"
   ]
  },
  {
   "cell_type": "code",
   "execution_count": null,
   "metadata": {},
   "outputs": [],
   "source": [
    "type(photos[2]['id'])"
   ]
  },
  {
   "cell_type": "code",
   "execution_count": null,
   "metadata": {},
   "outputs": [],
   "source": [
    "photo_id = []\n",
    "for k in range(len(photos)):\n",
    "    photo_id.append(photos[k]['id'])"
   ]
  },
  {
   "cell_type": "code",
   "execution_count": null,
   "metadata": {},
   "outputs": [],
   "source": [
    "print(len(photo_id))"
   ]
  },
  {
   "cell_type": "code",
   "execution_count": null,
   "metadata": {},
   "outputs": [],
   "source": [
    "photo_id[249]"
   ]
  },
  {
   "cell_type": "code",
   "execution_count": null,
   "metadata": {},
   "outputs": [],
   "source": [
    "photo_owner = []\n",
    "for k in range(len(photos)):\n",
    "    photo_owner.append(photos[k]['owner'])"
   ]
  },
  {
   "cell_type": "code",
   "execution_count": null,
   "metadata": {},
   "outputs": [],
   "source": [
    "print(len(photo_owner))"
   ]
  },
  {
   "cell_type": "code",
   "execution_count": null,
   "metadata": {},
   "outputs": [],
   "source": [
    "photo_owner[249]"
   ]
  },
  {
   "cell_type": "code",
   "execution_count": null,
   "metadata": {},
   "outputs": [],
   "source": [
    "pip install tqdm"
   ]
  },
  {
   "cell_type": "code",
   "execution_count": null,
   "metadata": {},
   "outputs": [],
   "source": [
    "from tqdm import tqdm # python에서 for문 진행 현황 확인하는 라이브러리"
   ]
  },
  {
   "cell_type": "code",
   "execution_count": null,
   "metadata": {},
   "outputs": [],
   "source": [
    "photo_id"
   ]
  },
  {
   "cell_type": "code",
   "execution_count": null,
   "metadata": {},
   "outputs": [],
   "source": [
    "photo_owner"
   ]
  },
  {
   "cell_type": "code",
   "execution_count": null,
   "metadata": {},
   "outputs": [],
   "source": [
    "# latitiude / longitude 추출  (이거)\n",
    "# 각각의 photo_id 에 대해 tag, title, url 추출\n",
    "# http 500 오류 발생한 상태\n",
    "\n",
    "\n",
    "total_information = []\n",
    "\n",
    "\n",
    "for i in range(len(photo_id)):\n",
    "    geology = flickr.photos.geo.getLocation(photo_id=photo_id[i])\n",
    "    information = flickr.photos.getInfo(photo_id=photo_id[i])\n",
    "    \n",
    "    # geo_lad 추출\n",
    "    geo_lad = geology['photo']['location']['latitude']\n",
    "    \n",
    "    # geo_lon 추출\n",
    "    geo_lon = geology['photo']['location']['longitude']\n",
    "        \n",
    "    # tag 추출\n",
    "    tags = information['photo']['tags']['tag']\n",
    "    information_tag = []\n",
    "    for j in range(len(tags)):\n",
    "        information_tag.append(tags[j]['_content'])\n",
    "        pass\n",
    "    \n",
    "    # title 추출\n",
    "    information_title = information['photo']['title']['_content']\n",
    "    \n",
    "    # url 추출\n",
    "    information_url = information['photo']['urls']['url'][0]['_content']\n",
    "\n",
    "    # Taken Time\n",
    "    time = information['photo']['dates']['taken']\n",
    "    \n",
    "     # photo_id, tag, title, url, time을 하나의 리스트로 만들기\n",
    "    # 하나의 리스트로 만들기\n",
    "    information_list = []\n",
    "    information_list.append(photo_id[i])\n",
    "    information_list.append(photo_owner[i])\n",
    "    information_list.append(geo_lad)\n",
    "    information_list.append(geo_lon)\n",
    "    information_list.append(information_tag)\n",
    "    information_list.append(information_title)\n",
    "    information_list.append(information_url)\n",
    "    information_list.append(time)\n",
    "\n",
    "    # 총 리스트 만들기\n",
    "    total_information.append(information_list)\n",
    "    print(len(total_information))\n",
    "\n",
    "    pass    "
   ]
  },
  {
   "cell_type": "code",
   "execution_count": null,
   "metadata": {},
   "outputs": [],
   "source": [
    "len(total_information)"
   ]
  },
  {
   "cell_type": "code",
   "execution_count": null,
   "metadata": {},
   "outputs": [],
   "source": [
    "total_information[0]"
   ]
  },
  {
   "cell_type": "code",
   "execution_count": null,
   "metadata": {},
   "outputs": [],
   "source": [
    "### 해야 할 일: photo_id 기준으로 tag, title, url을 한 눈에 볼 수 있는 dataframe 만드는 것 [pandas에 대한 이해 높이자!]\n",
    "import pandas as pd\n",
    "\n",
    "col_names = ['photo_id','Owner_id','Latitude', 'Longitude', 'tag', 'title', 'image_url', 'Taken_time']\n",
    "values = total_information\n",
    "flickr_df = pd.DataFrame(values, columns=col_names)"
   ]
  },
  {
   "cell_type": "code",
   "execution_count": null,
   "metadata": {},
   "outputs": [],
   "source": [
    "flickr_df # 중복값 제거하는 등의 전처리 필요한 상태 [flickr api method들 사용할"
   ]
  },
  {
   "cell_type": "code",
   "execution_count": null,
   "metadata": {},
   "outputs": [],
   "source": [
    "# flickr_df를 csv 파일로 저장하기\n",
    "flickr_df.to_csv('italy'+'_dataframe.csv')"
   ]
  }
 ],
 "metadata": {
  "kernelspec": {
   "display_name": "Python 3",
   "language": "python",
   "name": "python3"
  },
  "language_info": {
   "codemirror_mode": {
    "name": "ipython",
    "version": 3
   },
   "file_extension": ".py",
   "mimetype": "text/x-python",
   "name": "python",
   "nbconvert_exporter": "python",
   "pygments_lexer": "ipython3",
   "version": "3.7.4"
  }
 },
 "nbformat": 4,
 "nbformat_minor": 2
}
