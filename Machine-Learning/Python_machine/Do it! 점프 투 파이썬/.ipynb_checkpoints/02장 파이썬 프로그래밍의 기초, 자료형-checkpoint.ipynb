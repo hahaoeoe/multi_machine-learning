{
 "cells": [
  {
   "cell_type": "markdown",
   "metadata": {},
   "source": [
    "# 02장 자료형 "
   ]
  },
  {
   "cell_type": "markdown",
   "metadata": {},
   "source": [
    "## 02-1 숫자형"
   ]
  },
  {
   "cell_type": "code",
   "execution_count": 3,
   "metadata": {},
   "outputs": [],
   "source": [
    "# 정수형(integer): 정수를 뜻하는 자료형\n",
    "\n",
    "a = 123\n",
    "a = -178\n",
    "a = 0"
   ]
  },
  {
   "cell_type": "code",
   "execution_count": 4,
   "metadata": {},
   "outputs": [],
   "source": [
    "# 실수형(Floating-point): 소수점이 포함된 숫자\n",
    "a =1.2\n",
    "a = -3.45\n",
    "\n",
    "a = 4.24E10\n",
    "a = 4.24e-10"
   ]
  },
  {
   "cell_type": "code",
   "execution_count": null,
   "metadata": {},
   "outputs": [],
   "source": [
    "# 8진수(octal)와 16진수(Hexadecimal)\n",
    "a = 0o177\n",
    "# 숫자가 0o, 0O (숫자 0 + 소,대문자 o,O)로 시작하면 된다.\n",
    "\n",
    "a = 0x8ff\n",
    "# 16진수는 0x로 시작하면 된다."
   ]
  },
  {
   "cell_type": "code",
   "execution_count": null,
   "metadata": {},
   "outputs": [],
   "source": [
    "# 복소수(Complex nunber)\n",
    "a = 1+2j\n",
    "b = 3-4J\n",
    " # 파이썬은 i 대신 j를 사용한다. 소,대문자 상관 없다."
   ]
  },
  {
   "cell_type": "markdown",
   "metadata": {},
   "source": [
    "* 복소수.real: 실수부분 리턴\n",
    "* 복소수.image: 허수 부분 리턴\n",
    "* 복소수.conjugate(): 켤레복소수 리턴\n",
    "* abs(복소수): 절대값을 리턴"
   ]
  },
  {
   "cell_type": "markdown",
   "metadata": {},
   "source": [
    "<연산자>\n",
    "** : x의 제곱을 나타냄\n",
    "% : 나눗셈 후 나머지 반환\n",
    "// : 나눗셈 후 소수점 아랫자리 버림"
   ]
  },
  {
   "cell_type": "code",
   "execution_count": null,
   "metadata": {},
   "outputs": [],
   "source": []
  },
  {
   "cell_type": "markdown",
   "metadata": {},
   "source": [
    "## 02-2 문자열 자료형\n",
    "\n",
    "문자열(String): 문자, 단어 등으로 구성된 문자들의 집합을 의미"
   ]
  },
  {
   "cell_type": "markdown",
   "metadata": {},
   "source": [
    "<문자열 생성>\n",
    "\n",
    "1. \" \"\n",
    "2. ' '\n",
    "3.\"\"\" \"\"\"\n",
    "4. ''' '''\n",
    "\n",
    "1. \" python's favorit\"\n",
    "2. 'He says \"Wow\"'\n",
    "3. 'Python＼'s favorite food is perl' ==> ＼(백슬래시)를 이용해서 '와 \"를 문자열에 포함"
   ]
  },
  {
   "cell_type": "markdown",
   "metadata": {},
   "source": [
    "<여러 줄인 문자열 변수 대입>\n"
   ]
  },
  {
   "cell_type": "code",
   "execution_count": null,
   "metadata": {},
   "outputs": [],
   "source": []
  }
 ],
 "metadata": {
  "kernelspec": {
   "display_name": "Python 3",
   "language": "python",
   "name": "python3"
  },
  "language_info": {
   "codemirror_mode": {
    "name": "ipython",
    "version": 3
   },
   "file_extension": ".py",
   "mimetype": "text/x-python",
   "name": "python",
   "nbconvert_exporter": "python",
   "pygments_lexer": "ipython3",
   "version": "3.7.4"
  }
 },
 "nbformat": 4,
 "nbformat_minor": 2
}
